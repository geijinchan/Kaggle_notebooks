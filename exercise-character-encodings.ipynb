{
 "cells": [
  {
   "cell_type": "markdown",
   "id": "a4246043",
   "metadata": {
    "papermill": {
     "duration": 0.005226,
     "end_time": "2024-08-15T01:07:25.080380",
     "exception": false,
     "start_time": "2024-08-15T01:07:25.075154",
     "status": "completed"
    },
    "tags": []
   },
   "source": [
    "**This notebook is an exercise in the [Data Cleaning](https://www.kaggle.com/learn/data-cleaning) course.  You can reference the tutorial at [this link](https://www.kaggle.com/alexisbcook/character-encodings).**\n",
    "\n",
    "---\n"
   ]
  },
  {
   "cell_type": "markdown",
   "id": "bf8523a4",
   "metadata": {
    "papermill": {
     "duration": 0.00446,
     "end_time": "2024-08-15T01:07:25.090110",
     "exception": false,
     "start_time": "2024-08-15T01:07:25.085650",
     "status": "completed"
    },
    "tags": []
   },
   "source": [
    "In this exercise, you'll apply what you learned in the **Character encodings** tutorial.\n",
    "\n",
    "# Setup\n",
    "\n",
    "The questions below will give you feedback on your work. Run the following cell to set up the feedback system."
   ]
  },
  {
   "cell_type": "code",
   "execution_count": 1,
   "id": "f842e182",
   "metadata": {
    "execution": {
     "iopub.execute_input": "2024-08-15T01:07:25.101440Z",
     "iopub.status.busy": "2024-08-15T01:07:25.101027Z",
     "iopub.status.idle": "2024-08-15T01:07:26.111399Z",
     "shell.execute_reply": "2024-08-15T01:07:26.109901Z"
    },
    "papermill": {
     "duration": 1.019594,
     "end_time": "2024-08-15T01:07:26.114345",
     "exception": false,
     "start_time": "2024-08-15T01:07:25.094751",
     "status": "completed"
    },
    "tags": []
   },
   "outputs": [
    {
     "name": "stdout",
     "output_type": "stream",
     "text": [
      "Setup Complete\n"
     ]
    }
   ],
   "source": [
    "from learntools.core import binder\n",
    "binder.bind(globals())\n",
    "from learntools.data_cleaning.ex4 import *\n",
    "print(\"Setup Complete\")"
   ]
  },
  {
   "cell_type": "markdown",
   "id": "33b32817",
   "metadata": {
    "papermill": {
     "duration": 0.004543,
     "end_time": "2024-08-15T01:07:26.123862",
     "exception": false,
     "start_time": "2024-08-15T01:07:26.119319",
     "status": "completed"
    },
    "tags": []
   },
   "source": [
    "# Get our environment set up\n",
    "\n",
    "The first thing we'll need to do is load in the libraries we'll be using."
   ]
  },
  {
   "cell_type": "code",
   "execution_count": 2,
   "id": "6dfdafe9",
   "metadata": {
    "execution": {
     "iopub.execute_input": "2024-08-15T01:07:26.135283Z",
     "iopub.status.busy": "2024-08-15T01:07:26.134815Z",
     "iopub.status.idle": "2024-08-15T01:07:26.140575Z",
     "shell.execute_reply": "2024-08-15T01:07:26.139445Z"
    },
    "papermill": {
     "duration": 0.014249,
     "end_time": "2024-08-15T01:07:26.143033",
     "exception": false,
     "start_time": "2024-08-15T01:07:26.128784",
     "status": "completed"
    },
    "tags": []
   },
   "outputs": [],
   "source": [
    "# modules we'll use\n",
    "import pandas as pd\n",
    "import numpy as np\n",
    "\n",
    "# helpful character encoding module\n",
    "import charset_normalizer\n",
    "\n",
    "# set seed for reproducibility\n",
    "np.random.seed(0)"
   ]
  },
  {
   "cell_type": "markdown",
   "id": "79b9e354",
   "metadata": {
    "papermill": {
     "duration": 0.00454,
     "end_time": "2024-08-15T01:07:26.152624",
     "exception": false,
     "start_time": "2024-08-15T01:07:26.148084",
     "status": "completed"
    },
    "tags": []
   },
   "source": [
    "# 1) What are encodings?\n",
    "\n",
    "You're working with a dataset composed of bytes.  Run the code cell below to print a sample entry."
   ]
  },
  {
   "cell_type": "code",
   "execution_count": 3,
   "id": "20e36453",
   "metadata": {
    "execution": {
     "iopub.execute_input": "2024-08-15T01:07:26.163914Z",
     "iopub.status.busy": "2024-08-15T01:07:26.163490Z",
     "iopub.status.idle": "2024-08-15T01:07:26.168972Z",
     "shell.execute_reply": "2024-08-15T01:07:26.167827Z"
    },
    "papermill": {
     "duration": 0.014234,
     "end_time": "2024-08-15T01:07:26.171741",
     "exception": false,
     "start_time": "2024-08-15T01:07:26.157507",
     "status": "completed"
    },
    "tags": []
   },
   "outputs": [
    {
     "name": "stdout",
     "output_type": "stream",
     "text": [
      "b'\\xa7A\\xa6n'\n",
      "data type: <class 'bytes'>\n"
     ]
    }
   ],
   "source": [
    "sample_entry = b'\\xa7A\\xa6n'\n",
    "print(sample_entry)\n",
    "print('data type:', type(sample_entry))"
   ]
  },
  {
   "cell_type": "markdown",
   "id": "491cb641",
   "metadata": {
    "papermill": {
     "duration": 0.004489,
     "end_time": "2024-08-15T01:07:26.181133",
     "exception": false,
     "start_time": "2024-08-15T01:07:26.176644",
     "status": "completed"
    },
    "tags": []
   },
   "source": [
    "You notice that it doesn't use the standard UTF-8 encoding. \n",
    "\n",
    "Use the next code cell to create a variable `new_entry` that changes the encoding from `\"big5-tw\"` to `\"utf-8\"`.  `new_entry` should have the bytes datatype."
   ]
  },
  {
   "cell_type": "code",
   "execution_count": 4,
   "id": "834c70e5",
   "metadata": {
    "execution": {
     "iopub.execute_input": "2024-08-15T01:07:26.192479Z",
     "iopub.status.busy": "2024-08-15T01:07:26.192078Z",
     "iopub.status.idle": "2024-08-15T01:07:26.202261Z",
     "shell.execute_reply": "2024-08-15T01:07:26.201081Z"
    },
    "papermill": {
     "duration": 0.018535,
     "end_time": "2024-08-15T01:07:26.204504",
     "exception": false,
     "start_time": "2024-08-15T01:07:26.185969",
     "status": "completed"
    },
    "tags": []
   },
   "outputs": [
    {
     "data": {
      "application/javascript": [
       "parent.postMessage({\"jupyterEvent\": \"custom.exercise_interaction\", \"data\": {\"outcomeType\": 1, \"valueTowardsCompletion\": 0.3333333333333333, \"interactionType\": 1, \"questionType\": 1, \"questionId\": \"1_EncodingsIntro\", \"learnToolsVersion\": \"0.3.4\", \"failureMessage\": \"\", \"exceptionClass\": \"\", \"trace\": \"\"}}, \"*\")"
      ],
      "text/plain": [
       "<IPython.core.display.Javascript object>"
      ]
     },
     "metadata": {},
     "output_type": "display_data"
    },
    {
     "data": {
      "text/markdown": [
       "<span style=\"color:#33cc33\">Correct</span>"
      ],
      "text/plain": [
       "Correct"
      ]
     },
     "metadata": {},
     "output_type": "display_data"
    }
   ],
   "source": [
    "new_entry = sample_entry.decode(\"big5-tw\").encode()\n",
    "\n",
    "# Check your answer\n",
    "q1.check()"
   ]
  },
  {
   "cell_type": "code",
   "execution_count": 5,
   "id": "b469c9c2",
   "metadata": {
    "execution": {
     "iopub.execute_input": "2024-08-15T01:07:26.217254Z",
     "iopub.status.busy": "2024-08-15T01:07:26.216818Z",
     "iopub.status.idle": "2024-08-15T01:07:26.221613Z",
     "shell.execute_reply": "2024-08-15T01:07:26.220462Z"
    },
    "papermill": {
     "duration": 0.014116,
     "end_time": "2024-08-15T01:07:26.223844",
     "exception": false,
     "start_time": "2024-08-15T01:07:26.209728",
     "status": "completed"
    },
    "tags": []
   },
   "outputs": [],
   "source": [
    "# Lines below will give you a hint or solution code\n",
    "#q1.hint()\n",
    "#q1.solution()"
   ]
  },
  {
   "cell_type": "markdown",
   "id": "cc22fee0",
   "metadata": {
    "papermill": {
     "duration": 0.004872,
     "end_time": "2024-08-15T01:07:26.234010",
     "exception": false,
     "start_time": "2024-08-15T01:07:26.229138",
     "status": "completed"
    },
    "tags": []
   },
   "source": [
    "# 2) Reading in files with encoding problems\n",
    "\n",
    "Use the code cell below to read in this file at path `\"../input/fatal-police-shootings-in-the-us/PoliceKillingsUS.csv\"`.  \n",
    "\n",
    "Figure out what the correct encoding should be and read in the file to a DataFrame `police_killings`."
   ]
  },
  {
   "cell_type": "code",
   "execution_count": null,
   "id": "a01171ff",
   "metadata": {
    "papermill": {
     "duration": 0.005165,
     "end_time": "2024-08-15T01:07:26.244248",
     "exception": false,
     "start_time": "2024-08-15T01:07:26.239083",
     "status": "completed"
    },
    "tags": []
   },
   "outputs": [],
   "source": []
  },
  {
   "cell_type": "code",
   "execution_count": 6,
   "id": "581cf6cd",
   "metadata": {
    "execution": {
     "iopub.execute_input": "2024-08-15T01:07:26.257025Z",
     "iopub.status.busy": "2024-08-15T01:07:26.255945Z",
     "iopub.status.idle": "2024-08-15T01:07:26.281998Z",
     "shell.execute_reply": "2024-08-15T01:07:26.280978Z"
    },
    "papermill": {
     "duration": 0.034886,
     "end_time": "2024-08-15T01:07:26.284420",
     "exception": false,
     "start_time": "2024-08-15T01:07:26.249534",
     "status": "completed"
    },
    "tags": []
   },
   "outputs": [
    {
     "data": {
      "application/javascript": [
       "parent.postMessage({\"jupyterEvent\": \"custom.exercise_interaction\", \"data\": {\"outcomeType\": 1, \"valueTowardsCompletion\": 0.3333333333333333, \"interactionType\": 1, \"questionType\": 1, \"questionId\": \"2_ReadIn\", \"learnToolsVersion\": \"0.3.4\", \"failureMessage\": \"\", \"exceptionClass\": \"\", \"trace\": \"\"}}, \"*\")"
      ],
      "text/plain": [
       "<IPython.core.display.Javascript object>"
      ]
     },
     "metadata": {},
     "output_type": "display_data"
    },
    {
     "data": {
      "text/markdown": [
       "<span style=\"color:#33cc33\">Correct</span>"
      ],
      "text/plain": [
       "Correct"
      ]
     },
     "metadata": {},
     "output_type": "display_data"
    }
   ],
   "source": [
    "# TODO: Load in the DataFrame correctly.\n",
    "police_killings = pd.read_csv(\"../input/fatal-police-shootings-in-the-us/PoliceKillingsUS.csv\", encoding='Windows-1252')\n",
    "\n",
    "# Check your answer\n",
    "q2.check()"
   ]
  },
  {
   "cell_type": "markdown",
   "id": "f6624e14",
   "metadata": {
    "papermill": {
     "duration": 0.005564,
     "end_time": "2024-08-15T01:07:26.295320",
     "exception": false,
     "start_time": "2024-08-15T01:07:26.289756",
     "status": "completed"
    },
    "tags": []
   },
   "source": [
    "Feel free to use any additional code cells for supplemental work.  To get credit for finishing this question, you'll need to run `q2.check()` and get a result of **Correct**."
   ]
  },
  {
   "cell_type": "code",
   "execution_count": 7,
   "id": "914a5f10",
   "metadata": {
    "execution": {
     "iopub.execute_input": "2024-08-15T01:07:26.308594Z",
     "iopub.status.busy": "2024-08-15T01:07:26.307419Z",
     "iopub.status.idle": "2024-08-15T01:07:26.312620Z",
     "shell.execute_reply": "2024-08-15T01:07:26.311387Z"
    },
    "papermill": {
     "duration": 0.014113,
     "end_time": "2024-08-15T01:07:26.314939",
     "exception": false,
     "start_time": "2024-08-15T01:07:26.300826",
     "status": "completed"
    },
    "tags": []
   },
   "outputs": [],
   "source": [
    "# (Optional) Use this code cell for any additional work."
   ]
  },
  {
   "cell_type": "code",
   "execution_count": 8,
   "id": "1888b1ec",
   "metadata": {
    "execution": {
     "iopub.execute_input": "2024-08-15T01:07:26.327459Z",
     "iopub.status.busy": "2024-08-15T01:07:26.327015Z",
     "iopub.status.idle": "2024-08-15T01:07:26.331817Z",
     "shell.execute_reply": "2024-08-15T01:07:26.330634Z"
    },
    "papermill": {
     "duration": 0.013919,
     "end_time": "2024-08-15T01:07:26.334298",
     "exception": false,
     "start_time": "2024-08-15T01:07:26.320379",
     "status": "completed"
    },
    "tags": []
   },
   "outputs": [],
   "source": [
    "# Lines below will give you a hint or solution code\n",
    "#q2.hint()\n",
    "#q2.solution()"
   ]
  },
  {
   "cell_type": "markdown",
   "id": "33a4dc2f",
   "metadata": {
    "papermill": {
     "duration": 0.005339,
     "end_time": "2024-08-15T01:07:26.345797",
     "exception": false,
     "start_time": "2024-08-15T01:07:26.340458",
     "status": "completed"
    },
    "tags": []
   },
   "source": [
    "# 3) Saving your files with UTF-8 encoding\n",
    "\n",
    "Save a version of the police killings dataset to CSV with UTF-8 encoding.  Your answer will be marked correct after saving this file.  \n",
    "\n",
    "Note: When using the `to_csv()` method, supply only the name of the file (e.g., `\"my_file.csv\"`).  This saves the file at the filepath `\"/kaggle/working/my_file.csv\"`."
   ]
  },
  {
   "cell_type": "code",
   "execution_count": 9,
   "id": "d953a9ee",
   "metadata": {
    "execution": {
     "iopub.execute_input": "2024-08-15T01:07:26.359200Z",
     "iopub.status.busy": "2024-08-15T01:07:26.358757Z",
     "iopub.status.idle": "2024-08-15T01:07:26.400227Z",
     "shell.execute_reply": "2024-08-15T01:07:26.399104Z"
    },
    "papermill": {
     "duration": 0.050555,
     "end_time": "2024-08-15T01:07:26.402629",
     "exception": false,
     "start_time": "2024-08-15T01:07:26.352074",
     "status": "completed"
    },
    "tags": []
   },
   "outputs": [
    {
     "data": {
      "application/javascript": [
       "parent.postMessage({\"jupyterEvent\": \"custom.exercise_interaction\", \"data\": {\"outcomeType\": 1, \"valueTowardsCompletion\": 0.3333333333333333, \"interactionType\": 1, \"questionType\": 2, \"questionId\": \"3_SaveCSV\", \"learnToolsVersion\": \"0.3.4\", \"failureMessage\": \"\", \"exceptionClass\": \"\", \"trace\": \"\"}}, \"*\")"
      ],
      "text/plain": [
       "<IPython.core.display.Javascript object>"
      ]
     },
     "metadata": {},
     "output_type": "display_data"
    },
    {
     "data": {
      "text/markdown": [
       "<span style=\"color:#33cc33\">Correct</span>"
      ],
      "text/plain": [
       "Correct"
      ]
     },
     "metadata": {},
     "output_type": "display_data"
    }
   ],
   "source": [
    "# TODO: Save the police killings dataset to CSV\n",
    "police_killings.to_csv(\"my_file.csv\")\n",
    "# Check your answer\n",
    "q3.check()"
   ]
  },
  {
   "cell_type": "code",
   "execution_count": 10,
   "id": "48514506",
   "metadata": {
    "execution": {
     "iopub.execute_input": "2024-08-15T01:07:26.416702Z",
     "iopub.status.busy": "2024-08-15T01:07:26.415698Z",
     "iopub.status.idle": "2024-08-15T01:07:26.420418Z",
     "shell.execute_reply": "2024-08-15T01:07:26.419308Z"
    },
    "papermill": {
     "duration": 0.014257,
     "end_time": "2024-08-15T01:07:26.422710",
     "exception": false,
     "start_time": "2024-08-15T01:07:26.408453",
     "status": "completed"
    },
    "tags": []
   },
   "outputs": [],
   "source": [
    "# Lines below will give you a hint or solution code\n",
    "#q3.hint()\n",
    "#q3.solution()"
   ]
  },
  {
   "cell_type": "markdown",
   "id": "ec4fb922",
   "metadata": {
    "papermill": {
     "duration": 0.005701,
     "end_time": "2024-08-15T01:07:26.434525",
     "exception": false,
     "start_time": "2024-08-15T01:07:26.428824",
     "status": "completed"
    },
    "tags": []
   },
   "source": [
    "# (Optional) More practice\n",
    "\n",
    "Check out [this dataset of files in different character encodings](https://www.kaggle.com/rtatman/character-encoding-examples). Can you read in all the files with their original encodings and them save them out as UTF-8 files?\n",
    "\n",
    "If you have a file that's in UTF-8 but has just a couple of weird-looking characters in it, you can try out the [ftfy module](https://ftfy.readthedocs.io/en/latest/#) and see if it helps. \n",
    "\n",
    "# Keep going\n",
    "\n",
    "In the final lesson, learn how to [**clean up inconsistent text entries**](https://www.kaggle.com/alexisbcook/inconsistent-data-entry) in your dataset."
   ]
  },
  {
   "cell_type": "markdown",
   "id": "ec263e9c",
   "metadata": {
    "papermill": {
     "duration": 0.005385,
     "end_time": "2024-08-15T01:07:26.445636",
     "exception": false,
     "start_time": "2024-08-15T01:07:26.440251",
     "status": "completed"
    },
    "tags": []
   },
   "source": [
    "---\n",
    "\n",
    "\n",
    "\n",
    "\n",
    "*Have questions or comments? Visit the [course discussion forum](https://www.kaggle.com/learn/data-cleaning/discussion) to chat with other learners.*"
   ]
  }
 ],
 "metadata": {
  "kaggle": {
   "accelerator": "none",
   "dataSources": [
    {
     "datasetId": 2647,
     "sourceId": 4395,
     "sourceType": "datasetVersion"
    }
   ],
   "isGpuEnabled": false,
   "isInternetEnabled": false,
   "language": "python",
   "sourceType": "notebook"
  },
  "kernelspec": {
   "display_name": "Python 3",
   "language": "python",
   "name": "python3"
  },
  "language_info": {
   "codemirror_mode": {
    "name": "ipython",
    "version": 3
   },
   "file_extension": ".py",
   "mimetype": "text/x-python",
   "name": "python",
   "nbconvert_exporter": "python",
   "pygments_lexer": "ipython3",
   "version": "3.10.13"
  },
  "papermill": {
   "default_parameters": {},
   "duration": 4.787243,
   "end_time": "2024-08-15T01:07:26.973188",
   "environment_variables": {},
   "exception": null,
   "input_path": "__notebook__.ipynb",
   "output_path": "__notebook__.ipynb",
   "parameters": {},
   "start_time": "2024-08-15T01:07:22.185945",
   "version": "2.5.0"
  }
 },
 "nbformat": 4,
 "nbformat_minor": 5
}
