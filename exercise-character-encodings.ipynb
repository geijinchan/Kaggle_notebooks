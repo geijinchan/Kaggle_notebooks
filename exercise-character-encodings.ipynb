{
 "cells": [
  {
   "cell_type": "markdown",
   "id": "f8ca0ad9",
   "metadata": {
    "papermill": {
     "duration": 0.004657,
     "end_time": "2024-08-14T23:55:05.223058",
     "exception": false,
     "start_time": "2024-08-14T23:55:05.218401",
     "status": "completed"
    },
    "tags": []
   },
   "source": [
    "**This notebook is an exercise in the [Data Cleaning](https://www.kaggle.com/learn/data-cleaning) course.  You can reference the tutorial at [this link](https://www.kaggle.com/alexisbcook/character-encodings).**\n",
    "\n",
    "---\n"
   ]
  },
  {
   "cell_type": "markdown",
   "id": "481ba4c6",
   "metadata": {
    "papermill": {
     "duration": 0.004294,
     "end_time": "2024-08-14T23:55:05.231706",
     "exception": false,
     "start_time": "2024-08-14T23:55:05.227412",
     "status": "completed"
    },
    "tags": []
   },
   "source": [
    "In this exercise, you'll apply what you learned in the **Character encodings** tutorial.\n",
    "\n",
    "# Setup\n",
    "\n",
    "The questions below will give you feedback on your work. Run the following cell to set up the feedback system."
   ]
  },
  {
   "cell_type": "code",
   "execution_count": 1,
   "id": "23f25452",
   "metadata": {
    "execution": {
     "iopub.execute_input": "2024-08-14T23:55:05.242212Z",
     "iopub.status.busy": "2024-08-14T23:55:05.241358Z",
     "iopub.status.idle": "2024-08-14T23:55:06.175992Z",
     "shell.execute_reply": "2024-08-14T23:55:06.174610Z"
    },
    "papermill": {
     "duration": 0.943546,
     "end_time": "2024-08-14T23:55:06.179349",
     "exception": false,
     "start_time": "2024-08-14T23:55:05.235803",
     "status": "completed"
    },
    "tags": []
   },
   "outputs": [
    {
     "name": "stdout",
     "output_type": "stream",
     "text": [
      "Setup Complete\n"
     ]
    }
   ],
   "source": [
    "from learntools.core import binder\n",
    "binder.bind(globals())\n",
    "from learntools.data_cleaning.ex4 import *\n",
    "print(\"Setup Complete\")"
   ]
  },
  {
   "cell_type": "markdown",
   "id": "c9cda0b6",
   "metadata": {
    "papermill": {
     "duration": 0.004065,
     "end_time": "2024-08-14T23:55:06.188274",
     "exception": false,
     "start_time": "2024-08-14T23:55:06.184209",
     "status": "completed"
    },
    "tags": []
   },
   "source": [
    "# Get our environment set up\n",
    "\n",
    "The first thing we'll need to do is load in the libraries we'll be using."
   ]
  },
  {
   "cell_type": "code",
   "execution_count": 2,
   "id": "dbd76eca",
   "metadata": {
    "execution": {
     "iopub.execute_input": "2024-08-14T23:55:06.198661Z",
     "iopub.status.busy": "2024-08-14T23:55:06.198287Z",
     "iopub.status.idle": "2024-08-14T23:55:06.203846Z",
     "shell.execute_reply": "2024-08-14T23:55:06.202441Z"
    },
    "papermill": {
     "duration": 0.01345,
     "end_time": "2024-08-14T23:55:06.206148",
     "exception": false,
     "start_time": "2024-08-14T23:55:06.192698",
     "status": "completed"
    },
    "tags": []
   },
   "outputs": [],
   "source": [
    "# modules we'll use\n",
    "import pandas as pd\n",
    "import numpy as np\n",
    "\n",
    "# helpful character encoding module\n",
    "import charset_normalizer\n",
    "\n",
    "# set seed for reproducibility\n",
    "np.random.seed(0)"
   ]
  },
  {
   "cell_type": "markdown",
   "id": "f8d56728",
   "metadata": {
    "papermill": {
     "duration": 0.004061,
     "end_time": "2024-08-14T23:55:06.214810",
     "exception": false,
     "start_time": "2024-08-14T23:55:06.210749",
     "status": "completed"
    },
    "tags": []
   },
   "source": [
    "# 1) What are encodings?\n",
    "\n",
    "You're working with a dataset composed of bytes.  Run the code cell below to print a sample entry."
   ]
  },
  {
   "cell_type": "code",
   "execution_count": 3,
   "id": "4c8ada32",
   "metadata": {
    "execution": {
     "iopub.execute_input": "2024-08-14T23:55:06.225120Z",
     "iopub.status.busy": "2024-08-14T23:55:06.224694Z",
     "iopub.status.idle": "2024-08-14T23:55:06.230918Z",
     "shell.execute_reply": "2024-08-14T23:55:06.229534Z"
    },
    "papermill": {
     "duration": 0.014076,
     "end_time": "2024-08-14T23:55:06.233209",
     "exception": false,
     "start_time": "2024-08-14T23:55:06.219133",
     "status": "completed"
    },
    "tags": []
   },
   "outputs": [
    {
     "name": "stdout",
     "output_type": "stream",
     "text": [
      "b'\\xa7A\\xa6n'\n",
      "data type: <class 'bytes'>\n"
     ]
    }
   ],
   "source": [
    "sample_entry = b'\\xa7A\\xa6n'\n",
    "print(sample_entry)\n",
    "print('data type:', type(sample_entry))"
   ]
  },
  {
   "cell_type": "markdown",
   "id": "9feeade6",
   "metadata": {
    "papermill": {
     "duration": 0.004132,
     "end_time": "2024-08-14T23:55:06.241935",
     "exception": false,
     "start_time": "2024-08-14T23:55:06.237803",
     "status": "completed"
    },
    "tags": []
   },
   "source": [
    "You notice that it doesn't use the standard UTF-8 encoding. \n",
    "\n",
    "Use the next code cell to create a variable `new_entry` that changes the encoding from `\"big5-tw\"` to `\"utf-8\"`.  `new_entry` should have the bytes datatype."
   ]
  },
  {
   "cell_type": "code",
   "execution_count": 4,
   "id": "b1295eb0",
   "metadata": {
    "execution": {
     "iopub.execute_input": "2024-08-14T23:55:06.252309Z",
     "iopub.status.busy": "2024-08-14T23:55:06.251912Z",
     "iopub.status.idle": "2024-08-14T23:55:06.262457Z",
     "shell.execute_reply": "2024-08-14T23:55:06.261092Z"
    },
    "papermill": {
     "duration": 0.018443,
     "end_time": "2024-08-14T23:55:06.264685",
     "exception": false,
     "start_time": "2024-08-14T23:55:06.246242",
     "status": "completed"
    },
    "tags": []
   },
   "outputs": [
    {
     "data": {
      "application/javascript": [
       "parent.postMessage({\"jupyterEvent\": \"custom.exercise_interaction\", \"data\": {\"outcomeType\": 4, \"interactionType\": 1, \"questionType\": 1, \"questionId\": \"1_EncodingsIntro\", \"learnToolsVersion\": \"0.3.4\", \"valueTowardsCompletion\": 0.0, \"failureMessage\": \"\", \"exceptionClass\": \"\", \"trace\": \"\"}}, \"*\")"
      ],
      "text/plain": [
       "<IPython.core.display.Javascript object>"
      ]
     },
     "metadata": {},
     "output_type": "display_data"
    },
    {
     "data": {
      "text/markdown": [
       "<span style=\"color:#ccaa33\">Check:</span> When you've updated the starter code, `check()` will tell you whether your code is correct. You need to update the code that creates variable `new_entry`"
      ],
      "text/plain": [
       "Check: When you've updated the starter code, `check()` will tell you whether your code is correct. You need to update the code that creates variable `new_entry`"
      ]
     },
     "metadata": {},
     "output_type": "display_data"
    }
   ],
   "source": [
    "new_entry = ____\n",
    "\n",
    "# Check your answer\n",
    "q1.check()"
   ]
  },
  {
   "cell_type": "code",
   "execution_count": 5,
   "id": "c113e3bd",
   "metadata": {
    "execution": {
     "iopub.execute_input": "2024-08-14T23:55:06.276131Z",
     "iopub.status.busy": "2024-08-14T23:55:06.275707Z",
     "iopub.status.idle": "2024-08-14T23:55:06.280309Z",
     "shell.execute_reply": "2024-08-14T23:55:06.279314Z"
    },
    "papermill": {
     "duration": 0.012894,
     "end_time": "2024-08-14T23:55:06.282492",
     "exception": false,
     "start_time": "2024-08-14T23:55:06.269598",
     "status": "completed"
    },
    "tags": []
   },
   "outputs": [],
   "source": [
    "# Lines below will give you a hint or solution code\n",
    "#q1.hint()\n",
    "#q1.solution()"
   ]
  },
  {
   "cell_type": "markdown",
   "id": "416818e1",
   "metadata": {
    "papermill": {
     "duration": 0.004446,
     "end_time": "2024-08-14T23:55:06.291805",
     "exception": false,
     "start_time": "2024-08-14T23:55:06.287359",
     "status": "completed"
    },
    "tags": []
   },
   "source": [
    "# 2) Reading in files with encoding problems\n",
    "\n",
    "Use the code cell below to read in this file at path `\"../input/fatal-police-shootings-in-the-us/PoliceKillingsUS.csv\"`.  \n",
    "\n",
    "Figure out what the correct encoding should be and read in the file to a DataFrame `police_killings`."
   ]
  },
  {
   "cell_type": "code",
   "execution_count": 6,
   "id": "ab10b400",
   "metadata": {
    "execution": {
     "iopub.execute_input": "2024-08-14T23:55:06.303174Z",
     "iopub.status.busy": "2024-08-14T23:55:06.302752Z",
     "iopub.status.idle": "2024-08-14T23:55:06.311564Z",
     "shell.execute_reply": "2024-08-14T23:55:06.310553Z"
    },
    "papermill": {
     "duration": 0.017504,
     "end_time": "2024-08-14T23:55:06.314122",
     "exception": false,
     "start_time": "2024-08-14T23:55:06.296618",
     "status": "completed"
    },
    "tags": []
   },
   "outputs": [
    {
     "data": {
      "application/javascript": [
       "parent.postMessage({\"jupyterEvent\": \"custom.exercise_interaction\", \"data\": {\"outcomeType\": 4, \"interactionType\": 1, \"questionType\": 1, \"questionId\": \"2_ReadIn\", \"learnToolsVersion\": \"0.3.4\", \"valueTowardsCompletion\": 0.0, \"failureMessage\": \"\", \"exceptionClass\": \"\", \"trace\": \"\"}}, \"*\")"
      ],
      "text/plain": [
       "<IPython.core.display.Javascript object>"
      ]
     },
     "metadata": {},
     "output_type": "display_data"
    },
    {
     "data": {
      "text/markdown": [
       "<span style=\"color:#ccaa33\">Check:</span> When you've updated the starter code, `check()` will tell you whether your code is correct. You need to update the code that creates variable `police_killings`"
      ],
      "text/plain": [
       "Check: When you've updated the starter code, `check()` will tell you whether your code is correct. You need to update the code that creates variable `police_killings`"
      ]
     },
     "metadata": {},
     "output_type": "display_data"
    }
   ],
   "source": [
    "# TODO: Load in the DataFrame correctly.\n",
    "police_killings = ____\n",
    "\n",
    "# Check your answer\n",
    "q2.check()"
   ]
  },
  {
   "cell_type": "markdown",
   "id": "d75165ed",
   "metadata": {
    "papermill": {
     "duration": 0.004962,
     "end_time": "2024-08-14T23:55:06.324240",
     "exception": false,
     "start_time": "2024-08-14T23:55:06.319278",
     "status": "completed"
    },
    "tags": []
   },
   "source": [
    "Feel free to use any additional code cells for supplemental work.  To get credit for finishing this question, you'll need to run `q2.check()` and get a result of **Correct**."
   ]
  },
  {
   "cell_type": "code",
   "execution_count": 7,
   "id": "2487f01f",
   "metadata": {
    "execution": {
     "iopub.execute_input": "2024-08-14T23:55:06.336030Z",
     "iopub.status.busy": "2024-08-14T23:55:06.335608Z",
     "iopub.status.idle": "2024-08-14T23:55:06.340466Z",
     "shell.execute_reply": "2024-08-14T23:55:06.339277Z"
    },
    "papermill": {
     "duration": 0.013451,
     "end_time": "2024-08-14T23:55:06.342753",
     "exception": false,
     "start_time": "2024-08-14T23:55:06.329302",
     "status": "completed"
    },
    "tags": []
   },
   "outputs": [],
   "source": [
    "# (Optional) Use this code cell for any additional work."
   ]
  },
  {
   "cell_type": "code",
   "execution_count": 8,
   "id": "2df2dfd4",
   "metadata": {
    "execution": {
     "iopub.execute_input": "2024-08-14T23:55:06.354982Z",
     "iopub.status.busy": "2024-08-14T23:55:06.354529Z",
     "iopub.status.idle": "2024-08-14T23:55:06.359153Z",
     "shell.execute_reply": "2024-08-14T23:55:06.358128Z"
    },
    "papermill": {
     "duration": 0.013128,
     "end_time": "2024-08-14T23:55:06.361187",
     "exception": false,
     "start_time": "2024-08-14T23:55:06.348059",
     "status": "completed"
    },
    "tags": []
   },
   "outputs": [],
   "source": [
    "# Lines below will give you a hint or solution code\n",
    "#q2.hint()\n",
    "#q2.solution()"
   ]
  },
  {
   "cell_type": "markdown",
   "id": "065565f5",
   "metadata": {
    "papermill": {
     "duration": 0.004824,
     "end_time": "2024-08-14T23:55:06.371397",
     "exception": false,
     "start_time": "2024-08-14T23:55:06.366573",
     "status": "completed"
    },
    "tags": []
   },
   "source": [
    "# 3) Saving your files with UTF-8 encoding\n",
    "\n",
    "Save a version of the police killings dataset to CSV with UTF-8 encoding.  Your answer will be marked correct after saving this file.  \n",
    "\n",
    "Note: When using the `to_csv()` method, supply only the name of the file (e.g., `\"my_file.csv\"`).  This saves the file at the filepath `\"/kaggle/working/my_file.csv\"`."
   ]
  },
  {
   "cell_type": "code",
   "execution_count": 9,
   "id": "a0dea74a",
   "metadata": {
    "execution": {
     "iopub.execute_input": "2024-08-14T23:55:06.383797Z",
     "iopub.status.busy": "2024-08-14T23:55:06.383372Z",
     "iopub.status.idle": "2024-08-14T23:55:06.392431Z",
     "shell.execute_reply": "2024-08-14T23:55:06.391376Z"
    },
    "papermill": {
     "duration": 0.01806,
     "end_time": "2024-08-14T23:55:06.394611",
     "exception": false,
     "start_time": "2024-08-14T23:55:06.376551",
     "status": "completed"
    },
    "tags": []
   },
   "outputs": [
    {
     "data": {
      "application/javascript": [
       "parent.postMessage({\"jupyterEvent\": \"custom.exercise_interaction\", \"data\": {\"outcomeType\": 2, \"failureMessage\": \"Please save a CSV file and run this code cell again to get credit!\", \"interactionType\": 1, \"questionType\": 2, \"questionId\": \"3_SaveCSV\", \"learnToolsVersion\": \"0.3.4\", \"valueTowardsCompletion\": 0.0, \"exceptionClass\": \"\", \"trace\": \"\"}}, \"*\")"
      ],
      "text/plain": [
       "<IPython.core.display.Javascript object>"
      ]
     },
     "metadata": {},
     "output_type": "display_data"
    },
    {
     "data": {
      "text/markdown": [
       "<span style=\"color:#cc3333\">Incorrect:</span> Please save a CSV file and run this code cell again to get credit!"
      ],
      "text/plain": [
       "Incorrect: Please save a CSV file and run this code cell again to get credit!"
      ]
     },
     "metadata": {},
     "output_type": "display_data"
    }
   ],
   "source": [
    "# TODO: Save the police killings dataset to CSV\n",
    "____\n",
    "\n",
    "# Check your answer\n",
    "q3.check()"
   ]
  },
  {
   "cell_type": "code",
   "execution_count": 10,
   "id": "13b4c3cf",
   "metadata": {
    "execution": {
     "iopub.execute_input": "2024-08-14T23:55:06.407949Z",
     "iopub.status.busy": "2024-08-14T23:55:06.407546Z",
     "iopub.status.idle": "2024-08-14T23:55:06.412011Z",
     "shell.execute_reply": "2024-08-14T23:55:06.411014Z"
    },
    "papermill": {
     "duration": 0.014167,
     "end_time": "2024-08-14T23:55:06.414255",
     "exception": false,
     "start_time": "2024-08-14T23:55:06.400088",
     "status": "completed"
    },
    "tags": []
   },
   "outputs": [],
   "source": [
    "# Lines below will give you a hint or solution code\n",
    "#q3.hint()\n",
    "#q3.solution()"
   ]
  },
  {
   "cell_type": "markdown",
   "id": "56705a16",
   "metadata": {
    "papermill": {
     "duration": 0.005107,
     "end_time": "2024-08-14T23:55:06.424808",
     "exception": false,
     "start_time": "2024-08-14T23:55:06.419701",
     "status": "completed"
    },
    "tags": []
   },
   "source": [
    "# (Optional) More practice\n",
    "\n",
    "Check out [this dataset of files in different character encodings](https://www.kaggle.com/rtatman/character-encoding-examples). Can you read in all the files with their original encodings and them save them out as UTF-8 files?\n",
    "\n",
    "If you have a file that's in UTF-8 but has just a couple of weird-looking characters in it, you can try out the [ftfy module](https://ftfy.readthedocs.io/en/latest/#) and see if it helps. \n",
    "\n",
    "# Keep going\n",
    "\n",
    "In the final lesson, learn how to [**clean up inconsistent text entries**](https://www.kaggle.com/alexisbcook/inconsistent-data-entry) in your dataset."
   ]
  },
  {
   "cell_type": "markdown",
   "id": "f1e0515f",
   "metadata": {
    "papermill": {
     "duration": 0.005068,
     "end_time": "2024-08-14T23:55:06.435370",
     "exception": false,
     "start_time": "2024-08-14T23:55:06.430302",
     "status": "completed"
    },
    "tags": []
   },
   "source": [
    "---\n",
    "\n",
    "\n",
    "\n",
    "\n",
    "*Have questions or comments? Visit the [course discussion forum](https://www.kaggle.com/learn/data-cleaning/discussion) to chat with other learners.*"
   ]
  }
 ],
 "metadata": {
  "kaggle": {
   "accelerator": "none",
   "dataSources": [
    {
     "datasetId": 2647,
     "sourceId": 4395,
     "sourceType": "datasetVersion"
    }
   ],
   "isGpuEnabled": false,
   "isInternetEnabled": false,
   "language": "python",
   "sourceType": "notebook"
  },
  "kernelspec": {
   "display_name": "Python 3",
   "language": "python",
   "name": "python3"
  },
  "language_info": {
   "codemirror_mode": {
    "name": "ipython",
    "version": 3
   },
   "file_extension": ".py",
   "mimetype": "text/x-python",
   "name": "python",
   "nbconvert_exporter": "python",
   "pygments_lexer": "ipython3",
   "version": "3.10.13"
  },
  "papermill": {
   "default_parameters": {},
   "duration": 4.497199,
   "end_time": "2024-08-14T23:55:06.961441",
   "environment_variables": {},
   "exception": null,
   "input_path": "__notebook__.ipynb",
   "output_path": "__notebook__.ipynb",
   "parameters": {},
   "start_time": "2024-08-14T23:55:02.464242",
   "version": "2.5.0"
  }
 },
 "nbformat": 4,
 "nbformat_minor": 5
}
